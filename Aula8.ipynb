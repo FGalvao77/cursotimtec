{
 "cells": [
  {
   "cell_type": "code",
   "execution_count": 1,
   "metadata": {
    "collapsed": true
   },
   "outputs": [],
   "source": [
    "class Proposicao:\n",
    "    def __init__(self, nome, ementa):\n",
    "        self._nome = nome\n",
    "        self._ementa = ementa\n",
    "\n",
    "    def menciona_termo(self, termo):\n",
    "        return termo in self._ementa\n",
    "\n",
    "    def getNome(self):\n",
    "        return self._nome\n",
    "\n",
    "    def getEmenta(self):\n",
    "        return self._ementa\n",
    "\n",
    "    def setNome(self, nome):\n",
    "        pass\n",
    "\n",
    "    def setEmenta(self, ementa):\n",
    "        pass\n",
    "\n",
    "    def __str__(self):\n",
    "        return \"Nome: {}\\nEmenta: {}\".format(self.nome, self.ementa)\n",
    "\n",
    "    nome = property(fget=getNome, fset=setNome)\n",
    "    ementa = property(fget=getEmenta, fset=setEmenta)"
   ]
  },
  {
   "cell_type": "code",
   "execution_count": 7,
   "metadata": {},
   "outputs": [
    {
     "name": "stderr",
     "output_type": "stream",
     "text": [
      "F.\n",
      "======================================================================\n",
      "FAIL: test_menciona_termo (__main__.TestePreposicao)\n",
      "----------------------------------------------------------------------\n",
      "Traceback (most recent call last):\n",
      "  File \"<ipython-input-7-261a967ae1a0>\", line 14, in test_menciona_termo\n",
      "    self.assertEqual(self.proposicao.menciona_termo(\"testes\"), False)\n",
      "AssertionError: True != False\n",
      "\n",
      "----------------------------------------------------------------------\n",
      "Ran 2 tests in 0.004s\n",
      "\n",
      "FAILED (failures=1)\n"
     ]
    },
    {
     "data": {
      "text/plain": [
       "<unittest.runner.TextTestResult run=2 errors=0 failures=1>"
      ]
     },
     "execution_count": 7,
     "metadata": {},
     "output_type": "execute_result"
    }
   ],
   "source": [
    "import unittest\n",
    "\n",
    "# 1 - Faça os ajustes necessários para que os 2 testes rodem e ambos funcionem corretamente\n",
    "#     obs: O código a seguir possui alguns tipos diferentes de problemas que devem ser descobertos e\n",
    "#          consertados\n",
    "\n",
    "class TestePreposicao(unittest.TestCase):\n",
    "    def check_protecao_atributos(self):\n",
    "        self.proposicao.nome = 'novo nome'\n",
    "        self.assertTrue(self.proposicao.nome, 'nome')\n",
    "\n",
    "    def test_menciona_termo(self):\n",
    "        self.assertEqual(self.proposicao.menciona_termo(\"testes\"), False)\n",
    "        \n",
    "\n",
    "suite = unittest.TestLoader().loadTestsFromModule(TestePreposicao())\n",
    "unittest.TextTestRunner().run(suite)"
   ]
  },
  {
   "cell_type": "code",
   "execution_count": null,
   "metadata": {
    "collapsed": true
   },
   "outputs": [],
   "source": [
    "class Proposicao:\n",
    "    def __init__(self, nome, ementa):\n",
    "        self._nome = nome\n",
    "        self._ementa = ementa\n",
    "\n",
    "    def menciona_termo(self, termo):\n",
    "        return termo in self._ementa\n",
    "\n",
    "    def getNome(self):\n",
    "        return self._nome\n",
    "\n",
    "    def getEmenta(self):\n",
    "        return self._ementa\n",
    "\n",
    "    def setNome(self, nome):\n",
    "        self.nome = nome\n",
    "\n",
    "    def setEmenta(self, ementa):\n",
    "        self.ementa = ementa\n",
    "\n",
    "    def __str__(self):\n",
    "        return \"Nome: {}\\nEmenta: {}\".format(self.nome, self.ementa)\n",
    "\n",
    "    nome = property(fget=getNome, fset=setNome)\n",
    "    ementa = property(fget=getEmenta, fset=setEmenta)\n",
    "\n",
    "class NovoTestePreposicao(unittest.TestCase):\n",
    "    def test_protecao_atributos(self):\n",
    "        self.proposicao.nome = 'novo nome'\n",
    "        self.assertEqual(self.proposicao.nome, 'novo nome')\n",
    "\n",
    "suite = unittest.TestLoader().loadTestsFromModule(NovoTestePreposicao())\n",
    "unittest.TextTestRunner().run(suite)"
   ]
  }
 ],
 "metadata": {
  "kernelspec": {
   "display_name": "Python 3",
   "language": "python",
   "name": "python3"
  },
  "language_info": {
   "codemirror_mode": {
    "name": "ipython",
    "version": 3
   },
   "file_extension": ".py",
   "mimetype": "text/x-python",
   "name": "python",
   "nbconvert_exporter": "python",
   "pygments_lexer": "ipython3",
   "version": "3.5.0"
  }
 },
 "nbformat": 4,
 "nbformat_minor": 2
}
