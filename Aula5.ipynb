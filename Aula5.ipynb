{
 "cells": [
  {
   "cell_type": "code",
   "execution_count": 7,
   "metadata": {
    "collapsed": true
   },
   "outputs": [],
   "source": [
    "# Dado o código abaixo, incompleto\n",
    "\n",
    "class Proposicao:\n",
    "    def __init__(self, nome, ementa, data_apresentacan):\n",
    "        self._nome = nome\n",
    "        self._ementa = ementa\n",
    "\n",
    "    def menciona_termo(self, termo):\n",
    "        return termo in self._ementa\n",
    "\n",
    "    def getNome(self):\n",
    "        return self._nome\n",
    "\n",
    "    def getEmenta(self):\n",
    "        return self._ementa\n",
    "\n",
    "    def setNome(self, nome):\n",
    "        pass\n",
    "\n",
    "    def setEmenta(self, ementa):\n",
    "        pass\n",
    "\n",
    "    def __str__(self):\n",
    "        return \"Nome: {}\\nEmenta: {}\".format(self.nome, self.ementa)\n",
    "    \n",
    "    def __eq__(self, other):\n",
    "        return self.nome == other.nome\n",
    "\n",
    "    nome = property(fget=getNome, fset=setNome)\n",
    "    ementa = property(fget=getEmenta, fset=setEmenta)"
   ]
  },
  {
   "cell_type": "code",
   "execution_count": 8,
   "metadata": {
    "collapsed": true
   },
   "outputs": [],
   "source": [
    "# 1. Adicione um atributo na classe relativo ao atributo retornado no xml chamado \"datApresentacao\".\n",
    "# 2. Implemente o encapsulamento desse atributo"
   ]
  },
  {
   "cell_type": "code",
   "execution_count": 16,
   "metadata": {},
   "outputs": [],
   "source": [
    "# Agora imagine a situação abaixo:\n",
    "\n",
    "proposicoes = [\n",
    "    Proposicao('Teste', 'Ementa', '5/1/2016 18:04:00'),\n",
    "    Proposicao('Teste', 'Ementa', '6/1/2016 18:04:00'),\n",
    "    Proposicao('Teste', 'Ementa', '7/1/2016 18:04:00'),\n",
    "    Proposicao('Teste', 'Ementa', '11/1/2016 18:04:00'),\n",
    "]\n",
    "\n",
    "# 3. Crie um método que recebe essa lista de proposições e retorne as que foram apresentadas antes de uma data\n",
    "\n",
    "esperado = [\n",
    "    Proposicao('Teste1', 'Ementa', '5/1/2016 18:04:00'),\n",
    "    Proposicao('Teste2', 'Ementa', '6/1/2016 18:04:00'),\n",
    "    Proposicao('Teste3', 'Ementa', '7/1/2016 18:04:00'),\n",
    "]\n",
    "\n",
    "def anteriores(proposicoes, data):\n",
    "    pass\n",
    "\n",
    "retornado = anteriores(proposicoes, '10/01/2016')\n",
    "\n",
    "# Se tudo der certo essa linha funcionará\n",
    "assert retornado == esperado"
   ]
  },
  {
   "cell_type": "code",
   "execution_count": null,
   "metadata": {
    "collapsed": true
   },
   "outputs": [],
   "source": [
    "# Existe uma entidade retornada no XML do serviço que merece uma classe:\n",
    "'''\n",
    "<autor1>\n",
    "<txtNomeAutor>Francisco Floriano</txtNomeAutor>\n",
    "<idecadastro>160677</idecadastro>\n",
    "<codPartido>168</codPartido>\n",
    "<txtSiglaPartido>PR</txtSiglaPartido>\n",
    "<txtSiglaUF>RJ</txtSiglaUF>\n",
    "</autor1>\n",
    "'''\n",
    "\n",
    "# 4. Crie uma classe que possa representar esse xml (independente)"
   ]
  }
 ],
 "metadata": {
  "kernelspec": {
   "display_name": "Python 3",
   "language": "python",
   "name": "python3"
  },
  "language_info": {
   "codemirror_mode": {
    "name": "ipython",
    "version": 3
   },
   "file_extension": ".py",
   "mimetype": "text/x-python",
   "name": "python",
   "nbconvert_exporter": "python",
   "pygments_lexer": "ipython3",
   "version": "3.5.0"
  }
 },
 "nbformat": 4,
 "nbformat_minor": 2
}
