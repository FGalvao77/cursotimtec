{
 "cells": [
  {
   "cell_type": "code",
   "execution_count": 2,
   "metadata": {},
   "outputs": [
    {
     "ename": "ParseError",
     "evalue": "no element found: line 1, column 12 (<string>)",
     "output_type": "error",
     "traceback": [
      "\u001b[0;36m  File \u001b[0;32m\"<string>\"\u001b[0;36m, line \u001b[0;32munknown\u001b[0m\n\u001b[0;31mParseError\u001b[0m\u001b[0;31m:\u001b[0m no element found: line 1, column 12\n"
     ]
    }
   ],
   "source": [
    "# 1. Trate o erro a seguir usando a exceção mais genérica 'Exception'\n",
    "# 2. Trate o erro a seguir usando xml.etree.ElementTree.ParseError\n",
    "\n",
    "import xml.etree.ElementTree as ET\n",
    "\n",
    "proposicoes = ET.fromstring(\"<proposicao>\")"
   ]
  },
  {
   "cell_type": "code",
   "execution_count": null,
   "metadata": {
    "collapsed": true
   },
   "outputs": [],
   "source": [
    "# 1. Implemente a função que retorna uma classe Element e que retorne None\n",
    "#    em caso de erro na chamada de 'fromstring'\n",
    "\n",
    "def le_xml(xml_string):\n",
    "    pass\n",
    "\n",
    "\n",
    "\n",
    "# 2. Mude a função a seguir para corrigir o erro que pode aparecer quando o arquivo não existe\n",
    "#    e quando não temos permissnao para realizar leitura nele\n",
    "\n",
    "def ler_arquivo(filename):\n",
    "    _file = open(filename, \"rt\")\n",
    "    data = _file.read()\n",
    "    _file.close()\n",
    "    return data"
   ]
  }
 ],
 "metadata": {
  "kernelspec": {
   "display_name": "Python 3",
   "language": "python",
   "name": "python3"
  },
  "language_info": {
   "codemirror_mode": {
    "name": "ipython",
    "version": 3
   },
   "file_extension": ".py",
   "mimetype": "text/x-python",
   "name": "python",
   "nbconvert_exporter": "python",
   "pygments_lexer": "ipython3",
   "version": "3.5.0"
  }
 },
 "nbformat": 4,
 "nbformat_minor": 2
}
